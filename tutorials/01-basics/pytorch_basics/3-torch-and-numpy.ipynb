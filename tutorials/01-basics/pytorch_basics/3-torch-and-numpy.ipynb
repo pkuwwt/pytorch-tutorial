{
 "cells": [
  {
   "cell_type": "markdown",
   "metadata": {},
   "source": [
    "Numpy is the de-facto numerial computation library, so loading data from numpy is a basic skill for machine learning."
   ]
  },
  {
   "cell_type": "code",
   "execution_count": 3,
   "metadata": {},
   "outputs": [
    {
     "name": "stdout",
     "output_type": "stream",
     "text": [
      "tensor([[1, 2],\n",
      "        [3, 4]])\n"
     ]
    }
   ],
   "source": [
    "import torch\n",
    "import numpy as np\n",
    "x = np.array([[1, 2], [3, 4]])\n",
    "y = torch.from_numpy(x)\n",
    "print(y)"
   ]
  },
  {
   "cell_type": "markdown",
   "metadata": {},
   "source": [
    "Recover numpy array from torch tensor"
   ]
  },
  {
   "cell_type": "code",
   "execution_count": 5,
   "metadata": {},
   "outputs": [
    {
     "name": "stdout",
     "output_type": "stream",
     "text": [
      "[[1 2]\n",
      " [3 4]]\n"
     ]
    }
   ],
   "source": [
    "z = y.numpy()\n",
    "print(z)"
   ]
  },
  {
   "cell_type": "markdown",
   "metadata": {},
   "source": [
    "Numpy and torch tensors have many similarities."
   ]
  },
  {
   "cell_type": "markdown",
   "metadata": {},
   "source": [
    "#### Scalar"
   ]
  },
  {
   "cell_type": "code",
   "execution_count": 7,
   "metadata": {},
   "outputs": [
    {
     "name": "stdout",
     "output_type": "stream",
     "text": [
      "1 <class 'numpy.ndarray'>\n",
      "tensor(1) <class 'torch.Tensor'>\n"
     ]
    }
   ],
   "source": [
    "a = np.array(1)\n",
    "b = torch.tensor(1)\n",
    "print(a, type(a))\n",
    "print(b, type(b))"
   ]
  },
  {
   "cell_type": "markdown",
   "metadata": {},
   "source": [
    "numpy scalar arithmetics"
   ]
  },
  {
   "cell_type": "code",
   "execution_count": 11,
   "metadata": {},
   "outputs": [
    {
     "name": "stdout",
     "output_type": "stream",
     "text": [
      "3 1 2 0.5\n"
     ]
    }
   ],
   "source": [
    "a = np.array(1)\n",
    "b = np.array(2)\n",
    "print(a+b, b-a, a*b, a/b)"
   ]
  },
  {
   "cell_type": "markdown",
   "metadata": {},
   "source": [
    "tensor scalar arithmetics"
   ]
  },
  {
   "cell_type": "code",
   "execution_count": 12,
   "metadata": {},
   "outputs": [
    {
     "name": "stdout",
     "output_type": "stream",
     "text": [
      "tensor(3) tensor(1) tensor(2) tensor(0.5000)\n"
     ]
    }
   ],
   "source": [
    "a = torch.tensor(1)\n",
    "b = torch.tensor(2)\n",
    "print(a+b, b-a, a*b, a/b)"
   ]
  },
  {
   "cell_type": "markdown",
   "metadata": {},
   "source": [
    "#### Matrix"
   ]
  },
  {
   "cell_type": "markdown",
   "metadata": {},
   "source": [
    "Matrix initialization"
   ]
  },
  {
   "cell_type": "code",
   "execution_count": 14,
   "metadata": {},
   "outputs": [
    {
     "name": "stdout",
     "output_type": "stream",
     "text": [
      "[[0. 0. 0.]\n",
      " [0. 0. 0.]\n",
      " [0. 0. 0.]] \n",
      " [[1. 1. 1.]\n",
      " [1. 1. 1.]\n",
      " [1. 1. 1.]]\n",
      "tensor([[0., 0., 0.],\n",
      "        [0., 0., 0.],\n",
      "        [0., 0., 0.]]) \n",
      " tensor([[1., 1., 1.],\n",
      "        [1., 1., 1.],\n",
      "        [1., 1., 1.]])\n"
     ]
    }
   ],
   "source": [
    "a = np.zeros((3, 3))\n",
    "b = np.ones((3, 3))\n",
    "print(a, '\\n', b)\n",
    "a = torch.zeros((3, 3))\n",
    "b = torch.ones((3, 3))\n",
    "print(a, '\\n', b)"
   ]
  },
  {
   "cell_type": "markdown",
   "metadata": {},
   "source": [
    "Random matrices"
   ]
  },
  {
   "cell_type": "code",
   "execution_count": 15,
   "metadata": {},
   "outputs": [],
   "source": [
    "np.random.seed(42)\n",
    "a = np.random.randn(3, 3)\n",
    "torch.manual_seed(42)\n",
    "a = torch.randn(3, 3)"
   ]
  },
  {
   "cell_type": "markdown",
   "metadata": {},
   "source": [
    "Matrix arithmetics"
   ]
  },
  {
   "cell_type": "code",
   "execution_count": 44,
   "metadata": {},
   "outputs": [
    {
     "name": "stdout",
     "output_type": "stream",
     "text": [
      "[[-0.97375868  1.36222345]\n",
      " [-0.58998382 -0.91170657]] [[-0.97375868  1.36222345]\n",
      " [-0.58998382 -0.91170657]]\n",
      "[[-1.89796563  0.96410406]\n",
      " [ 0.61044994 -1.05131074]] [[-1.89796563  0.96410406]\n",
      " [ 0.61044994 -1.05131074]]\n",
      "[[-1.3616674  -0.20463103]\n",
      " [ 0.59384679 -0.06647436]] [[-1.3616674  -0.20463103]\n",
      " [ 0.59384679 -0.06647436]]\n",
      "[[ -3.10723081   5.84329112]\n",
      " [ -0.01704894 -14.0613085 ]] [[ -3.10723081   5.84329112]\n",
      " [ -0.01704894 -14.0613085 ]]\n",
      "[[-1.43586215  0.01023306]\n",
      " [ 1.16316375 -0.98150865]]\n",
      "[[-1.43586215  1.16316375]\n",
      " [ 0.01023306 -0.98150865]\n",
      " [ 0.46210347  0.1990597 ]\n",
      " [-0.60021688  0.06980208]]\n",
      "[[-1.43586215  1.16316375  0.46210347  0.1990597 ]\n",
      " [ 0.01023306 -0.98150865 -0.60021688  0.06980208]]\n",
      "[[-1.43586215  1.16316375  0.01023306 -0.98150865]]\n"
     ]
    }
   ],
   "source": [
    "a = np.random.randn(2, 2)\n",
    "b = np.random.randn(2, 2)\n",
    "print(a + b, np.add(a, b))\n",
    "print(a - b, np.subtract(a, b))\n",
    "print(a.dot(b), np.dot(a, b))\n",
    "print(a / b, np.divide(a, b))\n",
    "print(np.transpose(a))\n",
    "print(np.vstack([a, b]))\n",
    "print(np.hstack([a, b]))\n",
    "print(a.reshape(1, 4))"
   ]
  },
  {
   "cell_type": "code",
   "execution_count": 45,
   "metadata": {},
   "outputs": [
    {
     "name": "stdout",
     "output_type": "stream",
     "text": [
      "tensor([[-0.9965, -0.2786],\n",
      "        [ 0.1373,  3.1603]]) tensor([[-0.9965, -0.2786],\n",
      "        [ 0.1373,  3.1603]])\n",
      "tensor([[-0.3907,  2.2720],\n",
      "        [ 1.0888, -1.6076]]) tensor([[-0.3907,  2.2720],\n",
      "        [ 1.0888, -1.6076]])\n",
      "tensor([[ 2.2896, -0.7815],\n",
      "        [-1.2886,  0.3257]]) tensor([[ 2.2896, -0.7815],\n",
      "        [-1.2886,  0.3257]])\n",
      "tensor([[-0.2641,  3.2605],\n",
      "        [-0.5551,  1.0690]])\n",
      "tensor([[-0.6936,  0.6131],\n",
      "        [ 0.9967,  0.7764]])\n",
      "tensor([[-0.6936,  0.9967],\n",
      "        [ 0.6131,  0.7764],\n",
      "        [-0.3029, -1.2753],\n",
      "        [-0.4758,  2.3839]])\n",
      "tensor([[-0.6936,  0.9967, -0.3029, -1.2753],\n",
      "        [ 0.6131,  0.7764, -0.4758,  2.3839]])\n",
      "tensor([[-0.6936,  0.9967],\n",
      "        [ 0.6131,  0.7764],\n",
      "        [-0.3029, -1.2753],\n",
      "        [-0.4758,  2.3839]])\n",
      "tensor([[-0.6936,  0.9967, -0.3029, -1.2753],\n",
      "        [ 0.6131,  0.7764, -0.4758,  2.3839]])\n",
      "tensor([[-0.6936,  0.9967,  0.6131,  0.7764]])\n"
     ]
    }
   ],
   "source": [
    "a = torch.randn(2, 2)\n",
    "b = torch.randn(2, 2)\n",
    "print(a+b, torch.add(a, b))\n",
    "print(a-b, torch.sub(a, b))\n",
    "print(a/b, torch.div(a, b))\n",
    "print(torch.mm(a, b))\n",
    "print(torch.t(a))\n",
    "print(torch.cat((a, b)))\n",
    "print(torch.cat((a, b), dim=1))\n",
    "print(torch.vstack([a, b]))\n",
    "print(torch.hstack([a, b]))\n",
    "print(a.reshape(1, 4))"
   ]
  },
  {
   "cell_type": "code",
   "execution_count": null,
   "metadata": {},
   "outputs": [],
   "source": []
  }
 ],
 "metadata": {
  "kernelspec": {
   "display_name": "Python 3",
   "language": "python",
   "name": "python3"
  },
  "language_info": {
   "codemirror_mode": {
    "name": "ipython",
    "version": 3
   },
   "file_extension": ".py",
   "mimetype": "text/x-python",
   "name": "python",
   "nbconvert_exporter": "python",
   "pygments_lexer": "ipython3",
   "version": "3.7.5"
  }
 },
 "nbformat": 4,
 "nbformat_minor": 4
}
