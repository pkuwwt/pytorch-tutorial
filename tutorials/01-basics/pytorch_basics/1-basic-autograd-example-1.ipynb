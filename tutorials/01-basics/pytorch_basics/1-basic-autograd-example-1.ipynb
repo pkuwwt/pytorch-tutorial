{
 "cells": [
  {
   "cell_type": "markdown",
   "metadata": {},
   "source": [
    "Create tensors for a linear equation\n",
    "\n",
    "\\begin{equation*}\n",
    "y = w x + b\n",
    "\\end{equation*}"
   ]
  },
  {
   "cell_type": "code",
   "execution_count": 2,
   "metadata": {},
   "outputs": [],
   "source": [
    "import torch\n",
    "x = torch.tensor(1., requires_grad=True)\n",
    "w = torch.tensor(2., requires_grad=True)\n",
    "b = torch.tensor(3., requires_grad=True)\n",
    "y = w * x + b"
   ]
  },
  {
   "cell_type": "markdown",
   "metadata": {},
   "source": [
    "These tensors are all scalars. `requires_grad` is used to remember the derivative value."
   ]
  },
  {
   "cell_type": "code",
   "execution_count": 4,
   "metadata": {},
   "outputs": [
    {
     "name": "stdout",
     "output_type": "stream",
     "text": [
      "tensor(1., requires_grad=True) torch.Size([])\n",
      "tensor(2., requires_grad=True) torch.Size([])\n",
      "tensor(3., requires_grad=True) torch.Size([])\n",
      "tensor(5., grad_fn=<AddBackward0>) torch.Size([])\n"
     ]
    }
   ],
   "source": [
    "print(x, x.shape)\n",
    "print(w, w.shape)\n",
    "print(b, b.shape)\n",
    "print(y, y.shape)"
   ]
  },
  {
   "cell_type": "markdown",
   "metadata": {},
   "source": [
    "Now we can compute the derivative backward through the tensor graph, and verify the following derivatives.\n",
    "\n",
    "\\begin{equation*}\n",
    "\\frac{\\partial y}{\\partial x} = w,\\quad\n",
    "\\frac{\\partial y}{\\partial w} = x,\\quad\n",
    "\\frac{\\partial y}{\\partial b} = 1\n",
    "\\end{equation*}"
   ]
  },
  {
   "cell_type": "code",
   "execution_count": 5,
   "metadata": {},
   "outputs": [
    {
     "name": "stdout",
     "output_type": "stream",
     "text": [
      "tensor(2.)\n",
      "tensor(1.)\n",
      "tensor(1.)\n"
     ]
    }
   ],
   "source": [
    "y.backward()\n",
    "print(x.grad)\n",
    "print(w.grad)\n",
    "print(b.grad)"
   ]
  },
  {
   "cell_type": "code",
   "execution_count": null,
   "metadata": {},
   "outputs": [],
   "source": []
  }
 ],
 "metadata": {
  "kernelspec": {
   "display_name": "Python 3",
   "language": "python",
   "name": "python3"
  },
  "language_info": {
   "codemirror_mode": {
    "name": "ipython",
    "version": 3
   },
   "file_extension": ".py",
   "mimetype": "text/x-python",
   "name": "python",
   "nbconvert_exporter": "python",
   "pygments_lexer": "ipython3",
   "version": "3.7.5"
  }
 },
 "nbformat": 4,
 "nbformat_minor": 4
}
